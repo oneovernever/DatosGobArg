{
 "cells": [
  {
   "cell_type": "markdown",
   "metadata": {},
   "source": [
    "# Análisis de Robos de Vehículos 2018"
   ]
  },
  {
   "cell_type": "code",
   "execution_count": 1,
   "metadata": {},
   "outputs": [],
   "source": [
    "import pandas as pd\n",
    "import numpy as np\n",
    "import matplotlib.pyplot as plt\n",
    "from matplotlib import style\n",
    "style.use('ggplot')\n",
    "import pivottablejs"
   ]
  },
  {
   "cell_type": "markdown",
   "metadata": {},
   "source": [
    "## Crear los \"Data Frames\" \n",
    "Datos adquiridos de http://datos.gob.ar/dataset/justicia-robos-recuperos-autos"
   ]
  },
  {
   "cell_type": "code",
   "execution_count": 2,
   "metadata": {
    "scrolled": true
   },
   "outputs": [],
   "source": [
    "sep18 = pd.read_csv('dnrpa-robos-recuperos-autos-2018-09.csv')\n",
    "ago18 = pd.read_csv('dnrpa-robos-recuperos-autos-2018-08.csv')\n",
    "jul18 = pd.read_csv('dnrpa-robos-recuperos-autos-2018-07.csv')\n",
    "jun18 = pd.read_csv('dnrpa-robos-recuperos-autos-2018-06.csv')\n",
    "may18 = pd.read_csv('dnrpa-robos-recuperos-autos-2018-05.csv')\n",
    "abr18 = pd.read_csv('dnrpa-robos-recuperos-autos-2018-04.csv')\n",
    "mar18 = pd.read_csv('dnrpa-robos-recuperos-autos-2018-03.csv')\n",
    "feb18 = pd.read_csv('dnrpa-robos-recuperos-autos-2018-02.csv')\n",
    "ene18 = pd.read_csv('dnrpa-robos-recuperos-autos-2018-01.csv')"
   ]
  },
  {
   "cell_type": "markdown",
   "metadata": {},
   "source": [
    "Concatenamos los datos para trabajarlos desde una única planilla."
   ]
  },
  {
   "cell_type": "code",
   "execution_count": 3,
   "metadata": {},
   "outputs": [],
   "source": [
    "cons =  pd.concat([sep18,ago18,jul18,jun18,may18,abr18,mar18,feb18,ene18])"
   ]
  },
  {
   "cell_type": "code",
   "execution_count": 4,
   "metadata": {},
   "outputs": [
    {
     "data": {
      "text/plain": [
       "Index(['tramite_tipo', 'tramite_fecha', 'fecha_inscripcion_inicial',\n",
       "       'registro_seccional_codigo', 'registro_seccional_descripcion',\n",
       "       'registro_seccional_provincia', 'automotor_origen',\n",
       "       'automotor_anio_modelo', 'automotor_tipo_codigo',\n",
       "       'automotor_tipo_descripcion', 'automotor_marca_codigo',\n",
       "       'automotor_marca_descripcion', 'automotor_modelo_codigo',\n",
       "       'automotor_modelo_descripcion', 'automotor_uso_codigo',\n",
       "       'automotor_uso_descripcion', 'titular_tipo_persona',\n",
       "       'titular_domicilio_localidad', 'titular_domicilio_provincia',\n",
       "       'titular_genero', 'titular_anio_nacimiento', 'titular_pais_nacimiento',\n",
       "       'titular_porcentaje_titularidad',\n",
       "       'titular_domicilio_provincia_indec_id',\n",
       "       'titular_pais_nacimiento_indec_id'],\n",
       "      dtype='object')"
      ]
     },
     "execution_count": 4,
     "metadata": {},
     "output_type": "execute_result"
    }
   ],
   "source": [
    "cons.columns"
   ]
  },
  {
   "cell_type": "markdown",
   "metadata": {},
   "source": [
    "Formato de la fecha nos conviene que sea \"datetime64\" para poder trabajar con el ecosistema."
   ]
  },
  {
   "cell_type": "code",
   "execution_count": 5,
   "metadata": {},
   "outputs": [],
   "source": [
    "cons['tramite_fecha'] = cons['tramite_fecha'].astype('datetime64[ns]')"
   ]
  },
  {
   "cell_type": "markdown",
   "metadata": {},
   "source": [
    "Vamos agregar un numero llamado \"evento\" para simular la cantidad de veces que sucede esa fila.\n",
    "A su vez, este lo agregamos como primera columna."
   ]
  },
  {
   "cell_type": "code",
   "execution_count": 6,
   "metadata": {},
   "outputs": [],
   "source": [
    "cons['evento'] = 1\n",
    "cols = cons.columns.tolist()\n",
    "cons = cons[[cols[-1]] + cols[:-1]] "
   ]
  },
  {
   "cell_type": "markdown",
   "metadata": {},
   "source": [
    "Guardamos copia de seguridad de consolidado como Excel."
   ]
  },
  {
   "cell_type": "markdown",
   "metadata": {},
   "source": [
    "cons.to_excel('RobosConsolidados.xlsx') //lo dejo como comentario para no seguir guardando el mismo archivo."
   ]
  },
  {
   "cell_type": "markdown",
   "metadata": {},
   "source": [
    "Agrupamos datos de interes."
   ]
  },
  {
   "cell_type": "code",
   "execution_count": 7,
   "metadata": {},
   "outputs": [],
   "source": [
    "porTramite = cons.groupby(['tramite_tipo','titular_genero'], axis=0)\n",
    "porFecha = cons.groupby('tramite_fecha')"
   ]
  },
  {
   "cell_type": "code",
   "execution_count": 12,
   "metadata": {},
   "outputs": [],
   "source": [
    "def side_by_side(*objs, **kwds):\n",
    "    from pandas.core.common import adjoin\n",
    "    space = kwds.get('space', 4)\n",
    "    reprs = [rep(obj).split('\\n') for obj in objs]\n",
    "    print(adjoin(space, *reprs))\n",
    "plt.rc('figure', figsize=(10,16))"
   ]
  },
  {
   "cell_type": "code",
   "execution_count": 91,
   "metadata": {},
   "outputs": [
    {
     "data": {
      "text/html": [
       "<div>\n",
       "<style scoped>\n",
       "    .dataframe tbody tr th:only-of-type {\n",
       "        vertical-align: middle;\n",
       "    }\n",
       "\n",
       "    .dataframe tbody tr th {\n",
       "        vertical-align: top;\n",
       "    }\n",
       "\n",
       "    .dataframe thead th {\n",
       "        text-align: right;\n",
       "    }\n",
       "</style>\n",
       "<table border=\"1\" class=\"dataframe\">\n",
       "  <thead>\n",
       "    <tr style=\"text-align: right;\">\n",
       "      <th></th>\n",
       "      <th>evento</th>\n",
       "      <th>tramite_tipo</th>\n",
       "    </tr>\n",
       "  </thead>\n",
       "  <tbody>\n",
       "    <tr>\n",
       "      <th>0</th>\n",
       "      <td>1</td>\n",
       "      <td>DENUNCIA DE ROBO O HURTO</td>\n",
       "    </tr>\n",
       "    <tr>\n",
       "      <th>0</th>\n",
       "      <td>1</td>\n",
       "      <td>DENUNCIA DE ROBO O HURTO</td>\n",
       "    </tr>\n",
       "    <tr>\n",
       "      <th>0</th>\n",
       "      <td>1</td>\n",
       "      <td>DENUNCIA DE ROBO O HURTO</td>\n",
       "    </tr>\n",
       "    <tr>\n",
       "      <th>0</th>\n",
       "      <td>1</td>\n",
       "      <td>DENUNCIA DE ROBO O HURTO</td>\n",
       "    </tr>\n",
       "    <tr>\n",
       "      <th>0</th>\n",
       "      <td>1</td>\n",
       "      <td>DENUNCIA DE ROBO O HURTO</td>\n",
       "    </tr>\n",
       "    <tr>\n",
       "      <th>0</th>\n",
       "      <td>1</td>\n",
       "      <td>DENUNCIA DE ROBO O HURTO</td>\n",
       "    </tr>\n",
       "    <tr>\n",
       "      <th>0</th>\n",
       "      <td>1</td>\n",
       "      <td>DENUNCIA DE ROBO O HURTO</td>\n",
       "    </tr>\n",
       "    <tr>\n",
       "      <th>0</th>\n",
       "      <td>1</td>\n",
       "      <td>DENUNCIA DE ROBO O HURTO</td>\n",
       "    </tr>\n",
       "    <tr>\n",
       "      <th>0</th>\n",
       "      <td>1</td>\n",
       "      <td>DENUNCIA DE ROBO O HURTO</td>\n",
       "    </tr>\n",
       "    <tr>\n",
       "      <th>2</th>\n",
       "      <td>1</td>\n",
       "      <td>DENUNCIA DE ROBO O HURTO</td>\n",
       "    </tr>\n",
       "    <tr>\n",
       "      <th>2</th>\n",
       "      <td>1</td>\n",
       "      <td>DENUNCIA DE ROBO O HURTO</td>\n",
       "    </tr>\n",
       "    <tr>\n",
       "      <th>2</th>\n",
       "      <td>1</td>\n",
       "      <td>DENUNCIA DE ROBO O HURTO</td>\n",
       "    </tr>\n",
       "    <tr>\n",
       "      <th>2</th>\n",
       "      <td>1</td>\n",
       "      <td>DENUNCIA DE ROBO O HURTO</td>\n",
       "    </tr>\n",
       "    <tr>\n",
       "      <th>2</th>\n",
       "      <td>1</td>\n",
       "      <td>DENUNCIA DE ROBO O HURTO</td>\n",
       "    </tr>\n",
       "    <tr>\n",
       "      <th>2</th>\n",
       "      <td>1</td>\n",
       "      <td>DENUNCIA DE ROBO O HURTO</td>\n",
       "    </tr>\n",
       "    <tr>\n",
       "      <th>2</th>\n",
       "      <td>1</td>\n",
       "      <td>DENUNCIA DE ROBO O HURTO</td>\n",
       "    </tr>\n",
       "    <tr>\n",
       "      <th>2</th>\n",
       "      <td>1</td>\n",
       "      <td>DENUNCIA DE ROBO O HURTO</td>\n",
       "    </tr>\n",
       "    <tr>\n",
       "      <th>2</th>\n",
       "      <td>1</td>\n",
       "      <td>DENUNCIA DE ROBO O HURTO</td>\n",
       "    </tr>\n",
       "  </tbody>\n",
       "</table>\n",
       "</div>"
      ],
      "text/plain": [
       "   evento              tramite_tipo\n",
       "0       1  DENUNCIA DE ROBO O HURTO\n",
       "0       1  DENUNCIA DE ROBO O HURTO\n",
       "0       1  DENUNCIA DE ROBO O HURTO\n",
       "0       1  DENUNCIA DE ROBO O HURTO\n",
       "0       1  DENUNCIA DE ROBO O HURTO\n",
       "0       1  DENUNCIA DE ROBO O HURTO\n",
       "0       1  DENUNCIA DE ROBO O HURTO\n",
       "0       1  DENUNCIA DE ROBO O HURTO\n",
       "0       1  DENUNCIA DE ROBO O HURTO\n",
       "2       1  DENUNCIA DE ROBO O HURTO\n",
       "2       1  DENUNCIA DE ROBO O HURTO\n",
       "2       1  DENUNCIA DE ROBO O HURTO\n",
       "2       1  DENUNCIA DE ROBO O HURTO\n",
       "2       1  DENUNCIA DE ROBO O HURTO\n",
       "2       1  DENUNCIA DE ROBO O HURTO\n",
       "2       1  DENUNCIA DE ROBO O HURTO\n",
       "2       1  DENUNCIA DE ROBO O HURTO\n",
       "2       1  DENUNCIA DE ROBO O HURTO"
      ]
     },
     "execution_count": 91,
     "metadata": {},
     "output_type": "execute_result"
    }
   ],
   "source": [
    "cons.loc[cons.index[[0, 2]], 'evento':'tramite_tipo']"
   ]
  },
  {
   "cell_type": "markdown",
   "metadata": {},
   "source": [
    "## Las Tablas Dinamicas (Pivot Tables)"
   ]
  },
  {
   "cell_type": "markdown",
   "metadata": {},
   "source": [
    "Digamos que nos interesa ver mensualmente la evolucion de robos y comunicaciones de recupero\n",
    "Nota: Fill Value=0 reemplaza con un cero los NaN que aparecen por no tener datos la tabla."
   ]
  },
  {
   "cell_type": "code",
   "execution_count": 8,
   "metadata": {},
   "outputs": [],
   "source": [
    "consMensual = cons\n",
    "consMensual.tramite_fecha=consMensual.tramite_fecha.dt.strftime('%Y-%m')"
   ]
  },
  {
   "cell_type": "code",
   "execution_count": 9,
   "metadata": {
    "scrolled": false
   },
   "outputs": [
    {
     "data": {
      "text/html": [
       "\n",
       "        <iframe\n",
       "            width=\"100%\"\n",
       "            height=\"500\"\n",
       "            src=\"pivottablejs.html\"\n",
       "            frameborder=\"0\"\n",
       "            allowfullscreen\n",
       "        ></iframe>\n",
       "        "
      ],
      "text/plain": [
       "<IPython.lib.display.IFrame at 0x128e1a12f28>"
      ]
     },
     "execution_count": 9,
     "metadata": {},
     "output_type": "execute_result"
    }
   ],
   "source": [
    "pivottablejs.pivot_ui(consMensual)"
   ]
  },
  {
   "cell_type": "code",
   "execution_count": null,
   "metadata": {},
   "outputs": [],
   "source": []
  }
 ],
 "metadata": {
  "kernelspec": {
   "display_name": "Python 3",
   "language": "python",
   "name": "python3"
  },
  "language_info": {
   "codemirror_mode": {
    "name": "ipython",
    "version": 3
   },
   "file_extension": ".py",
   "mimetype": "text/x-python",
   "name": "python",
   "nbconvert_exporter": "python",
   "pygments_lexer": "ipython3",
   "version": "3.6.7"
  }
 },
 "nbformat": 4,
 "nbformat_minor": 2
}
